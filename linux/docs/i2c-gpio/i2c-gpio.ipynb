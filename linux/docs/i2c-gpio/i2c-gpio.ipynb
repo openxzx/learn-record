{
 "cells": [
  {
   "cell_type": "markdown",
   "metadata": {},
   "source": [
    "# I2C-GPIO\n",
    "\n",
    "    Developing gpio imitating i2c control i2c devices, eg. aw2013(breathe led).\n",
    "    \n",
    "## Step\n",
    "\n",
    "    1. make menuconfig:\n",
    "        Select: i2c-gpio-custom\n",
    "        \n",
    "    2. insmod i2c-gpio-custom bus0=0,5(sda),4(scl)\n",
    "    \n",
    "    3. using i2c-tools or app program:\n",
    "        \n",
    "        i2c-tools: directing i2c-tools commands.\n",
    "        \n",
    "        app program: I transplant i2c-tools program(ioctrl interfaces)."
   ]
  }
 ],
 "metadata": {
  "kernelspec": {
   "display_name": "Python 3",
   "language": "python",
   "name": "python3"
  },
  "language_info": {
   "codemirror_mode": {
    "name": "ipython",
    "version": 3
   },
   "file_extension": ".py",
   "mimetype": "text/x-python",
   "name": "python",
   "nbconvert_exporter": "python",
   "pygments_lexer": "ipython3",
   "version": "3.6.9"
  }
 },
 "nbformat": 4,
 "nbformat_minor": 2
}
