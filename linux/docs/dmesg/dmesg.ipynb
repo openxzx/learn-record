{
 "cells": [
  {
   "cell_type": "markdown",
   "metadata": {},
   "source": [
    "# dmesg\n",
    "\n",
    "    dmesg是一种程序，用于检测和控制内核环缓冲。程序用来帮助用户了解系统的启动信息, 同时查看最新kernel信息。\n",
    "    \n",
    "    Linux命令dmesg用来显示开机信息，kernel会将开机信息存储在ring buffer中。您若是开机时来不及查看信息，可利用dmesg来查看。开机信息亦保存在/var/log目录中，名称为dmesg的文件里。"
   ]
  },
  {
   "cell_type": "code",
   "execution_count": 2,
   "metadata": {},
   "outputs": [
    {
     "name": "stdout",
     "output_type": "stream",
     "text": [
      "[133956.432852] usb 1-1: New USB device strings: Mfr=1, Product=2, SerialNumber=0\n",
      "[133956.432856] usb 1-1: Product: USB2.0 Hub\n",
      "[133956.432860] usb 1-1: Manufacturer: GenesysLogic\n",
      "[133956.434232] hub 1-1:1.0: USB hub found\n",
      "[133956.435586] hub 1-1:1.0: 4 ports detected\n",
      "[133957.531421] usb 1-1-port1: Cannot enable. Maybe the USB cable is bad?\n",
      "[133958.407208] usb 1-1-port1: Cannot enable. Maybe the USB cable is bad?\n",
      "[133958.408619] usb 1-1-port1: attempt power cycle\n",
      "[133959.599529] usb 1-1-port1: Cannot enable. Maybe the USB cable is bad?\n",
      "[133960.475225] usb 1-1-port1: Cannot enable. Maybe the USB cable is bad?\n",
      "[133960.476648] usb 1-1-port1: unable to enumerate USB device\n",
      "[133963.529634] usb 2-1.3: new SuperSpeed USB device number 4 using xhci_hcd\n",
      "[133963.553055] usb 2-1.3: New USB device found, idVendor=05e3, idProduct=0749\n",
      "[133963.553062] usb 2-1.3: New USB device strings: Mfr=3, Product=4, SerialNumber=2\n",
      "[133963.553066] usb 2-1.3: Product: USB3.0 Card Reader\n",
      "[133963.553070] usb 2-1.3: Manufacturer: Generic\n",
      "[133963.553074] usb 2-1.3: SerialNumber: 000000001532\n",
      "[133963.554218] usb-storage 2-1.3:1.0: USB Mass Storage device detected\n",
      "[133963.554910] scsi host3: usb-storage 2-1.3:1.0\n",
      "[133964.566348] scsi 3:0:0:0: Direct-Access     Generic  STORAGE DEVICE   1532 PQ: 0 ANSI: 6\n",
      "[133964.566579] sd 3:0:0:0: Attached scsi generic sg2 type 0\n",
      "[133964.721753] sd 3:0:0:0: [sdc] 15273984 512-byte logical blocks: (7.82 GB/7.28 GiB)\n",
      "[133964.722214] sd 3:0:0:0: [sdc] Write Protect is off\n",
      "[133964.722220] sd 3:0:0:0: [sdc] Mode Sense: 21 00 00 00\n",
      "[133964.722684] sd 3:0:0:0: [sdc] Write cache: disabled, read cache: enabled, doesn't support DPO or FUA\n",
      "[133964.726502]  sdc: sdc1 sdc2\n",
      "[133964.728234] sd 3:0:0:0: [sdc] Attached SCSI removable disk\n",
      "[133966.448999] EXT4-fs (sdc2): warning: mounting unchecked fs, running e2fsck is recommended\n",
      "[133966.465418] EXT4-fs (sdc2): mounted filesystem without journal. Opts: (null)\n",
      "[133966.496088] FAT-fs (sdc1): Volume was not properly unmounted. Some data may be corrupt. Please run fsck.\n",
      "\n"
     ]
    }
   ],
   "source": [
    "import os\n",
    "\n",
    "with os.popen('dmesg | tail -n 30') as msg:\n",
    "    print(msg.read())"
   ]
  }
 ],
 "metadata": {
  "kernelspec": {
   "display_name": "Python 3",
   "language": "python",
   "name": "python3"
  },
  "language_info": {
   "codemirror_mode": {
    "name": "ipython",
    "version": 3
   },
   "file_extension": ".py",
   "mimetype": "text/x-python",
   "name": "python",
   "nbconvert_exporter": "python",
   "pygments_lexer": "ipython3",
   "version": "3.5.2"
  }
 },
 "nbformat": 4,
 "nbformat_minor": 2
}
