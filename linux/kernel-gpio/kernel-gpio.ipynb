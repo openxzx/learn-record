{
 "cells": [
  {
   "cell_type": "markdown",
   "metadata": {},
   "source": [
    "# Kernel GPIO\n",
    "\n",
    "    查看gpio使用情况\n",
    "    cat /sys/kernel/debug/gpio\n",
    "       \n",
    "    查看是否存在对应gpio文件\n",
    "    cat /sys/class/gpio/gpio%d\n",
    " \n",
    "    使能gpio引脚\n",
    "    echo n > /sys/class/gpio/export\n",
    " \n",
    "    设置方向\n",
    "    echo \"out\" > /sys/class/gpio/gpio%d/direction\"\n",
    "    echo \"in\" > /sys/class/gpio/gpio%d/direction\"\n",
    "       \n",
    "    设置高或低电平\n",
    "    echo 0 > /sys/class/gpio/gpio%d/value\n",
    "    echo 1 > /sys/class/gpio/gpio%d/value"
   ]
  }
 ],
 "metadata": {
  "kernelspec": {
   "display_name": "Python 3",
   "language": "python",
   "name": "python3"
  },
  "language_info": {
   "codemirror_mode": {
    "name": "ipython",
    "version": 3
   },
   "file_extension": ".py",
   "mimetype": "text/x-python",
   "name": "python",
   "nbconvert_exporter": "python",
   "pygments_lexer": "ipython3",
   "version": "3.6.9"
  }
 },
 "nbformat": 4,
 "nbformat_minor": 2
}
