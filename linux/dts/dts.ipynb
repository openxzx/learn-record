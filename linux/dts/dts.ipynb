{
 "cells": [
  {
   "cell_type": "markdown",
   "metadata": {},
   "source": [
    "# 设备树\n",
    "\n",
    "    在Linux3.x版本后，arch/arm/plat-xxx和arch/arm/mach-xxx中，描述板级细节的代码（比如platform_device、i2c_board_info等）被大量取消，取而代之的是设备树，其目录位于arch/arm/boot/dts.\n",
    "    \n",
    "    \n",
    "## 设备树的组成\n",
    "\n",
    "    1个dts文件+n个dtsi文件，它们编译而成的dtb文件就是真正的设备树.\n",
    "    \n",
    "    soc厂商会把soc公共的特性和多块开发板公用的特性提炼为dtsi，而dts则负责描述某个具体的产品（开发板）的特性。dts直接或间接的包含多个dtsi（类似于c语言的头文件），就体现了一个完整的产品（开发板）所有的特性.\n",
    "    \n",
    "    dts/dtsi兼容c语言的一些语法，能使用宏定义，也能包含.h文件.\n",
    "    \n",
    "    https://www.cnblogs.com/Rainingday/p/12517656.html\n",
    "    \n",
    "    ipq: https://blog.csdn.net/suiyuan19840208/article/details/107236941\n",
    "    \n",
    "    network configuration: https://blog.csdn.net/xiaodingqq/article/details/80024452"
   ]
  }
 ],
 "metadata": {
  "kernelspec": {
   "display_name": "Python 3",
   "language": "python",
   "name": "python3"
  },
  "language_info": {
   "codemirror_mode": {
    "name": "ipython",
    "version": 3
   },
   "file_extension": ".py",
   "mimetype": "text/x-python",
   "name": "python",
   "nbconvert_exporter": "python",
   "pygments_lexer": "ipython3",
   "version": "3.6.9"
  }
 },
 "nbformat": 4,
 "nbformat_minor": 2
}
