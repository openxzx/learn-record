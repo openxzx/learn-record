{
 "cells": [
  {
   "cell_type": "markdown",
   "metadata": {},
   "source": [
    "# RL8152 driver\n",
    "\n",
    "    工作中使用了USB转网口转化器（内部芯片使用RL8152），在Ubuntu16.04系统下RL8152芯片的驱动程序以自带，在Ubuntu14.04系统下RL8152驱动没有自带，之前使用由于linux系统上安装驱动不熟悉和时间问题，直接将PC系统从14.04升级到16.04之后直接支持RL8152驱动。后来，有一定时间了就想用手动在14.04系统安装RL8152驱动来完成USB转网口，来完成转接器的识别。\n",
    "    \n",
    "    从Realtek官网下载对应的驱动r8152.53.56-2.12.0.tar，并使用tar -xvf r8152.53.56-2.12.0.tar解压，cd到对应目录下，手动安装RL8152驱动。\n",
    "    \n",
    "    安装步骤：\n",
    "    1. sudo make clean modules\n",
    "    2. sudo make install\n",
    "    3. sudo depmod -a //检查模块间的依赖关系\n",
    "    4. sudo insmod ./src/r8168.ko //加载r8168模块\n",
    "    5. lsmod | grep r8168 //检查8168模块是否加载"
   ]
  }
 ],
 "metadata": {
  "kernelspec": {
   "display_name": "Python 3",
   "language": "python",
   "name": "python3"
  },
  "language_info": {
   "codemirror_mode": {
    "name": "ipython",
    "version": 3
   },
   "file_extension": ".py",
   "mimetype": "text/x-python",
   "name": "python",
   "nbconvert_exporter": "python",
   "pygments_lexer": "ipython3",
   "version": "3.5.2"
  }
 },
 "nbformat": 4,
 "nbformat_minor": 2
}
