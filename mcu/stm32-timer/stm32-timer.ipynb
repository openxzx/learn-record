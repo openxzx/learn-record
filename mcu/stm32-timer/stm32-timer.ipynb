{
 "cells": [
  {
   "cell_type": "markdown",
   "metadata": {},
   "source": [
    "# STM32 timer\n",
    "\n",
    "    The develop for two timer make microsecond timer. two 16bits timer make 32bits datas.\n",
    "    \n",
    "    A timer is Master timer, a timer is Slave timer. Master timer clock from HSI, Slave timer clock\n",
    "    \n",
    "    from Master timer update trigger, But STM32L071xx HSI have +-1% error range."
   ]
  },
  {
   "cell_type": "code",
   "execution_count": null,
   "metadata": {},
   "outputs": [],
   "source": []
  }
 ],
 "metadata": {
  "kernelspec": {
   "display_name": "Python 3",
   "language": "python",
   "name": "python3"
  },
  "language_info": {
   "codemirror_mode": {
    "name": "ipython",
    "version": 3
   },
   "file_extension": ".py",
   "mimetype": "text/x-python",
   "name": "python",
   "nbconvert_exporter": "python",
   "pygments_lexer": "ipython3",
   "version": "3.6.9"
  }
 },
 "nbformat": 4,
 "nbformat_minor": 2
}
