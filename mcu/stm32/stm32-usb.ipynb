{
 "cells": [
  {
   "cell_type": "markdown",
   "metadata": {},
   "source": [
    "# STM32 USB(DFU mode)\n",
    "\n",
    "    STM32 USB driver include DFU driver, so STM32 can support DFU mode. When embedded DFU into STM32 USB, STM32 USB have two running modes, include USB running mode and DFU running mode.\n",
    "    \n",
    "    DFU(Device Firmware Upgrade).\n",
    "    http://dfu-util.sourceforge.net\n",
    "    \n",
    "    According to dft-util's readme, we can install compile and install into PC linux system.\n",
    "    \n",
    "    Running command, eg: sudo dfu-util -a 0 -s 0x08000000:leave -t 0 -D ../mcu_bin/xxx_fwm_xxx.bin\n",
    "    You can look dfu-util's help messages.\n",
    "    \n",
    "    In linux system, you will install usb-acm driver for driver STM32 USB, hotplug STM32 into linux by USB interface, then you can find /dev/ttyACM0 in linux, you can operate device file /dev/ttyACM0 which communicate into STM32. "
   ]
  }
 ],
 "metadata": {
  "kernelspec": {
   "display_name": "Python 3",
   "language": "python",
   "name": "python3"
  },
  "language_info": {
   "codemirror_mode": {
    "name": "ipython",
    "version": 3
   },
   "file_extension": ".py",
   "mimetype": "text/x-python",
   "name": "python",
   "nbconvert_exporter": "python",
   "pygments_lexer": "ipython3",
   "version": "3.6.9"
  }
 },
 "nbformat": 4,
 "nbformat_minor": 4
}
