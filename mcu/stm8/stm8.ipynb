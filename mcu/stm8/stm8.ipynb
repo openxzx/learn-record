{
 "cells": [
  {
   "cell_type": "markdown",
   "metadata": {},
   "source": [
    "# STM8 develop docs\n",
    "\n",
    "## Requirement\n",
    "\n",
    "- Linux\n",
    "\n",
    "Tested with Debian/Ubuntu.\n",
    "\n",
    "Make sure /usr/local/bin is in your PATH environment variable.\n",
    "\n",
    "To check it in bash, just run:\n",
    "\n",
    "```bash\n",
    "echo $PATH\n",
    "```\n",
    "\n",
    "- SDCC\n",
    "\n",
    "Download the latest pre-compiled toolchain.\n",
    "\n",
    "[Download sdcc-3.9.0-amd64-unknown-linux2.5.tar.bz2](https://sourceforge.net/projects/sdcc/files/sdcc-linux-amd64/3.9.0/sdcc-3.9.0-amd64-unknown-linux2.5.tar.bz2)\n",
    "\n",
    "Install sdcc-3.9.0\n",
    "\n",
    "```bash\n",
    "$ tar xjf <path/to/sdcc>/sdcc-3.9.0-amd64-unknown-linux2.5.tar.bz2\n",
    "$ cd sdcc-3.9.0/\n",
    "$ sudo chown root:root -R bin/ share/\n",
    "$ sudo cp -rpd bin/ share/ /usr/local/\n",
    "```\n",
    "\n",
    "- stm8flash\n",
    "\n",
    "```bash\n",
    "$ git clone https://github.com/vdudouyt/stm8flash.git\n",
    "$ cd stm8flash/\n",
    "$ make\n",
    "$ sudo cp -rpd stm8flash /usr/local/bin/\n",
    "$ sudo chown root:root /usr/local/bin/stm8flash\n",
    "```\n",
    "\n",
    "## Build and Flash\n",
    "\n",
    "```bash\n",
    "$ cd <mm_stm8>\n",
    "$ make\n",
    "$ make flash\n",
    "```\n",
    "\n",
    "## References\n",
    "\n",
    "- stm8-bare-min\n",
    "\n",
    "[stm8-bare-bin on GitHub](https://github.com/lujji/stm8-bare-min/)\n",
    "\n",
    "[stm8-bootloader on GitHub](https://github.com/lujji/stm8-bootloader)    "
   ]
  }
 ],
 "metadata": {
  "kernelspec": {
   "display_name": "Python 3",
   "language": "python",
   "name": "python3"
  },
  "language_info": {
   "codemirror_mode": {
    "name": "ipython",
    "version": 3
   },
   "file_extension": ".py",
   "mimetype": "text/x-python",
   "name": "python",
   "nbconvert_exporter": "python",
   "pygments_lexer": "ipython3",
   "version": "3.5.2"
  }
 },
 "nbformat": 4,
 "nbformat_minor": 2
}
