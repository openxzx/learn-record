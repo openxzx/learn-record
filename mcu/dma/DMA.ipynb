{
 "cells": [
  {
   "cell_type": "markdown",
   "metadata": {},
   "source": [
    "# DMA（直接存储器存取（Direct Memory Access）\n",
    "\n",
    "    DMA是计算机科学中的一种内存访问技术。它允许某些电脑内部的硬体子系统（电脑外设），可以独立地直接读写系统存储器，而不需绕道 CPU。在同等程度的CPU负担下，DMA是一种快速的数据传送方式。它允许不同速度的硬件装置来沟通，而不需要依于CPU的大量中断请求。\n",
    "    \n",
    "    现在越来越多的单片机采用DMA技术，提供外设和存储器之间或者存储器之间的高速数据传输。当 CPU 初始化这个传输动作，传输动作本身是由 DMA 控制器 来实行和完成。STM32就有一个DMA控制器，它有7个通道，每个通道专门用来管理一个或多个外设对存储器访问的请求，还有一个仲裁器来协调各个DMA请求的优先权。\n",
    "    \n",
    "    DMA的使用需要具体看CPU/MCU是否支持，同时支持那些外设（UART，SPI等），将配置对应的外设寄存器使用DMA来传输数据。\n",
    "    \n",
    "    DMA具有高度可配置化, 高度可编程, 在总线模式下传输数据具有高效率, DMA控制器具有多主机,多频道等特点。 \n",
    "    DMA具有如下特点:\n",
    "    • 内存-内存, 内存-外设, 外设-内存, 外设-外设的DMA传输\n",
    "    • 具有独立的核心, 主接口和从接口独立时钟\n",
    "    • 当所有外设不活动时主接口可以关闭其时钟来省电\n",
    "    • 多达八个通道, 每路通道都有源和目的地对\n",
    "    • 每个通道数据传输数据时每个时刻只能有一个方向传输, 不同通道则不受影响\n",
    "    • 输入管脚可以动态选择大小端制式\n",
    "    • 通道锁支持, 支持内部通道仲裁, 根据数据传输的优先级来使用主接口总线的特权\n",
    "    • DMA状态输出, 空闲/忙指示\n",
    "    • DMA传输分配成传输中被中断,传输完成等传输等级"
   ]
  }
 ],
 "metadata": {
  "kernelspec": {
   "display_name": "Python 3",
   "language": "python",
   "name": "python3"
  },
  "language_info": {
   "codemirror_mode": {
    "name": "ipython",
    "version": 3
   },
   "file_extension": ".py",
   "mimetype": "text/x-python",
   "name": "python",
   "nbconvert_exporter": "python",
   "pygments_lexer": "ipython3",
   "version": "3.5.2"
  }
 },
 "nbformat": 4,
 "nbformat_minor": 2
}
