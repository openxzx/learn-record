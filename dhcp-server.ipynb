{
 "cells": [
  {
   "cell_type": "markdown",
   "metadata": {},
   "source": [
    "# DHCP Server\n",
    "\n",
    "    DHCP服务器是为客户端机器分配IP地址的，所有分配的IP地址都保存在DHCP服务器的数据库中。为了在子网中实现DHCP分配IP地址，需要在目标主机上安装配置DHCP服务。\n",
    "    \n",
    "    1. 安装DHCP Server:\n",
    "    \n",
    "    sudo apt install isc-dhcp-server\n",
    "    \n",
    "    DHCP的主要配置文件有两个，分别位于 /etc/default/isc-dhcp-server 和 /etc/dhcp/dhcpd.conf，下面要做的就是对这两个文件进行配置。\n",
    "    \n",
    "    2. 指定那个网口作为DHCP Server：\n",
    "    \n",
    "    针对Linux系统： 配置 --- System Setting --- Network --- 配置对应网口为静态IP并指定IP地址。\n",
    "    \n",
    "    3. 修改配置文件：\n",
    "    \n",
    "    3.1 ifconfig找出网口名字。\n",
    "    \n",
    "    ![jupyter](./ifconfig.png)\n",
    "    \n",
    "    3.2 修改/etc/default/isc-dhcp-server配置文件：\n",
    "    \n",
    "    sudo vim /etc/default/isc-dhcp-server\n",
    "    \n",
    "    修改INTERFACES=\"enp2s0\"\n",
    "    \n",
    "    3.3 修改/etc/dhcp/dhcpd.conf配置文件：\n",
    "    \n",
    "    sudo vim /etc/dhcp/dhcpd.conf\n",
    "    \n",
    "    可以修改lease时间，决定了能多长时间后就可以不同MAC地址分配相同的IP地址。\n",
    "    \n",
    "    ![jupyter](./dhcp.png)"
   ]
  }
 ],
 "metadata": {
  "kernelspec": {
   "display_name": "Python 3",
   "language": "python",
   "name": "python3"
  },
  "language_info": {
   "codemirror_mode": {
    "name": "ipython",
    "version": 3
   },
   "file_extension": ".py",
   "mimetype": "text/x-python",
   "name": "python",
   "nbconvert_exporter": "python",
   "pygments_lexer": "ipython3",
   "version": "3.5.2"
  }
 },
 "nbformat": 4,
 "nbformat_minor": 2
}
