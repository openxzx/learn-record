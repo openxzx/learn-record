{
 "cells": [
  {
   "cell_type": "markdown",
   "metadata": {},
   "source": [
    "# Python yield(generator)\n",
    "\n",
    "    1. 生成器：\n",
    "    在Python中，使用了yield的函数被称为生成器（generator）。\n",
    "    跟普通函数不同的是，生成器是一个返回迭代器的函数，只能用于迭代操作，更简单点理解生成器就是一个迭代器。\n",
    "    在调用生成器运行的过程中，每次遇到yield时函数会暂停并保存当前所有的运行信息，返回yield的值, 并在下一次执行next()方法时从当前位置继续运行。调用一个生成器函数，返回的是一个迭代器对象。\n",
    "    \n",
    "    2. 迭代器：\n",
    "    迭代是Python最强大的功能之一，是访问集合元素的一种方式。\n",
    "    迭代器是一个可以记住遍历的位置的对象。\n",
    "    迭代器对象从集合的第一个元素开始访问，直到所有的元素被访问完结束。迭代器只能往前不会后退。"
   ]
  },
  {
   "cell_type": "code",
   "execution_count": 5,
   "metadata": {},
   "outputs": [
    {
     "name": "stdout",
     "output_type": "stream",
     "text": [
      "0 :   1\n",
      "1 :   6\n",
      "2 :   11\n",
      "3 :   16\n",
      "4 :   21\n",
      "5 :   26\n",
      "6 :   31\n",
      "7 :   36\n",
      "8 :   41\n",
      "9 :   46\n"
     ]
    }
   ],
   "source": [
    "def equal_diff(a, d, cnt):\n",
    "    for i in range(cnt + 1):\n",
    "        yield a\n",
    "        a = a + d\n",
    "\n",
    "\n",
    "ed = equal_diff(1, 5, 9)\n",
    "for i, data in enumerate(ed):\n",
    "    print(i, ':', ' ', data)"
   ]
  },
  {
   "cell_type": "code",
   "execution_count": 8,
   "metadata": {},
   "outputs": [
    {
     "name": "stdout",
     "output_type": "stream",
     "text": [
      "0 :   abcde\n",
      "1 :   fghig\n",
      "2 :   klmno\n",
      "3 :   pqrst\n",
      "4 :   uvwxy\n",
      "5 :   z\n"
     ]
    }
   ],
   "source": [
    "s = 'abcdefghigklmnopqrstuvwxyz'\n",
    "\n",
    "def chunks(n):\n",
    "    for i in range(0, len(s), n):\n",
    "        yield s[i:i+5]\n",
    "\n",
    "\n",
    "datas = chunks(5)\n",
    "for n, data in enumerate(datas):\n",
    "    print(n, ':', ' ', data)"
   ]
  }
 ],
 "metadata": {
  "kernelspec": {
   "display_name": "Python 3",
   "language": "python",
   "name": "python3"
  },
  "language_info": {
   "codemirror_mode": {
    "name": "ipython",
    "version": 3
   },
   "file_extension": ".py",
   "mimetype": "text/x-python",
   "name": "python",
   "nbconvert_exporter": "python",
   "pygments_lexer": "ipython3",
   "version": "3.5.2"
  }
 },
 "nbformat": 4,
 "nbformat_minor": 2
}
