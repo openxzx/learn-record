{
 "cells": [
  {
   "cell_type": "markdown",
   "metadata": {},
   "source": [
    "# Git submodule\n",
    "\n",
    "    1. 当一个项目需要包含其他支持项目源码时使用的功能，作用是两个项目是独立的，且主项目可以使用另一个支持项目。\n",
    "        git submodule add <submodule_url>  # 添加子项目\n",
    "    \n",
    "    2. 添加子项目后会出现.gitmodules的文件，这是一个配置文件，记录mapping between the project's URL and the local subdirectory。且.gitmodules在git版本控制中，这样其他参与项目的人才能知道submodule projects的情况。\n",
    "        git submodule init  # 初始化本地.gitmodules文件\n",
    "        git submodule update  # 同步远端submodule源码\n",
    "    \n",
    "    3. 如果获取的项目包含submodules，pull main project的时候不会同时获取submodules的源码，需要执行本地.gitmodules初始化的命令，再同步远端submodule源码。如果希望clone main project的时候包含所有submodules，可以使用下面的命令。\n",
    "        git clone --recurse-submodules <main_project_url>  # 获取主项目和所有子项目源码\n",
    "    \n",
    "    4. 操作submodules源码：先进入submodule的direcotry，再执行下述命令。\n",
    "        git fetch  # 获取submodule远端源码\n",
    "        git merge origin/<branch_name>  # 合并submodule远端源码\n",
    "        git pull  # 获取submodule远端源码合并到当前分支\n",
    "        git checkout <branch_name>  # 切换submodule的branch\n",
    "        git commit -am \"change_summary\"  # 提交submodule的commit\n",
    "        或者\n",
    "\n",
    "        更新submodule源码，默认更新的branch是master，如果要修改branch，在.gitmodule中设置\n",
    "        git submodule update --remote <submodule_name>\n",
    "        \n",
    "        更新所有submodule源码，默认更新.gitmodule中设置的跟踪分支，未设置则跟踪master\n",
    "        git submodule update --remote\n",
    "        \n",
    "        当submodule commits提交有问题的时候放弃整个push\n",
    "        git push --recurse-submodules=check\n",
    "        \n",
    "        分开提交submodule和main project\n",
    "        git push --recurse-submodules=on-demand\n",
    "        \n",
    "    5. .gitmodule内容大致如下\n",
    "        [submodule <submodule_name>]\n",
    "            path = <local_directory>\n",
    "            url = <remote_url>\n",
    "            branch = <remote_update_branch_name>\n",
    "            \n",
    "    6. 用'foreach'关键字同时管理多个submodules，如下\n",
    "        stash所有submodules\n",
    "        git submodule foreach 'git stash'\n",
    "        \n",
    "        所有submodules创建新分支\n",
    "        git submodule foreach 'git checkout -b <branch_name>'\n"
   ]
  }
 ],
 "metadata": {
  "kernelspec": {
   "display_name": "Python 3",
   "language": "python",
   "name": "python3"
  },
  "language_info": {
   "codemirror_mode": {
    "name": "ipython",
    "version": 3
   },
   "file_extension": ".py",
   "mimetype": "text/x-python",
   "name": "python",
   "nbconvert_exporter": "python",
   "pygments_lexer": "ipython3",
   "version": "3.5.2"
  }
 },
 "nbformat": 4,
 "nbformat_minor": 2
}
