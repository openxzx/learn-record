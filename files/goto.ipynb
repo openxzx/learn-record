{
 "cells": [
  {
   "cell_type": "markdown",
   "metadata": {},
   "source": [
    "# C/C++/Python - goto\n",
    "\n",
    "    熟悉 C 语言的小伙伴一定对 goto 语句不陌生，它可以在代码之间随意的跳来跳去，但是好多老鸟都告诫大家，不要使用 goto，因为 goto 会使你的代码逻辑变的极其混乱。但是有时候我们不得不用它，因为它太高效了。比如进入循环内部深层一个 goto 就能回到最上层，还有可以定位到代码的任意一个位置，很是高效方便。但是也不要所有的代码都用 goto，那样你的代码就变得像量子世界那样诡异，连你自己都控制不了。最后一句忠告，能不用 goto 最好就不用。"
   ]
  },
  {
   "cell_type": "code",
   "execution_count": null,
   "metadata": {},
   "outputs": [],
   "source": [
    " static int __create_hyp_mappings(pgd_t *pgdp, unsigned long ptrs_per_pgd,\n",
    "                                  unsigned long start, unsigned long end,\n",
    "                                  unsigned long pfn, pgprot_t prot)\n",
    " {\n",
    "         pgd_t *pgd;\n",
    "         pud_t *pud;\n",
    "         unsigned long addr, next;\n",
    "         int err = 0;\n",
    " \n",
    "         mutex_lock(&kvm_hyp_pgd_mutex);\n",
    "         addr = start & PAGE_MASK;\n",
    "         end = PAGE_ALIGN(end);\n",
    "         do {\n",
    "                 pgd = pgdp + kvm_pgd_index(addr, ptrs_per_pgd);\n",
    " \n",
    "                 if (pgd_none(*pgd)) {\n",
    "                         pud = pud_alloc_one(NULL, addr);\n",
    "                         if (!pud) {\n",
    "                                 kvm_err(\"Cannot allocate Hyp pud\\n\");\n",
    "                                 err = -ENOMEM;\n",
    "                                 goto out;\n",
    "                         }\n",
    "                         kvm_pgd_populate(pgd, pud);\n",
    "                         get_page(virt_to_page(pgd));\n",
    "                 }\n",
    " \n",
    "                 next = pgd_addr_end(addr, end);\n",
    "                 err = create_hyp_pud_mappings(pgd, addr, next, pfn, prot);\n",
    "                 if (err)\n",
    "                         goto out;\n",
    "                  pfn += (next - addr) >> PAGE_SHIFT;\n",
    "         } while (addr = next, addr != end);\n",
    " out:\n",
    "         mutex_unlock(&kvm_hyp_pgd_mutex);\n",
    "         return err;\n",
    " }"
   ]
  },
  {
   "cell_type": "markdown",
   "metadata": {},
   "source": [
    "    以上Codes为linux系统源码里面的一个实现函数。"
   ]
  },
  {
   "cell_type": "markdown",
   "metadata": {},
   "source": [
    "##  Python3 goto"
   ]
  },
  {
   "cell_type": "code",
   "execution_count": 5,
   "metadata": {},
   "outputs": [
    {
     "data": {
      "text/plain": [
       "[0, 1, 2, 3, 4, 5, 6, 7, 8, 9]"
      ]
     },
     "execution_count": 5,
     "metadata": {},
     "output_type": "execute_result"
    }
   ],
   "source": [
    "from goto import with_goto\n",
    " \n",
    "@with_goto\n",
    "def range(start, stop):\n",
    "    i = start\n",
    "    result = []\n",
    " \n",
    "    label .begin\n",
    "    if i == stop:\n",
    "        goto .end\n",
    " \n",
    "    result.append(i)\n",
    "    i += 1\n",
    "    goto .begin\n",
    " \n",
    "    label .end\n",
    "    return result\n",
    "\n",
    "range(0, 10)"
   ]
  }
 ],
 "metadata": {
  "kernelspec": {
   "display_name": "Python 3",
   "language": "python",
   "name": "python3"
  },
  "language_info": {
   "codemirror_mode": {
    "name": "ipython",
    "version": 3
   },
   "file_extension": ".py",
   "mimetype": "text/x-python",
   "name": "python",
   "nbconvert_exporter": "python",
   "pygments_lexer": "ipython3",
   "version": "3.5.2"
  }
 },
 "nbformat": 4,
 "nbformat_minor": 2
}
