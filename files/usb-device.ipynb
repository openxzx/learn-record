{
 "cells": [
  {
   "cell_type": "markdown",
   "metadata": {},
   "source": [
    "# USB convertor system configuration"
   ]
  },
  {
   "cell_type": "markdown",
   "metadata": {},
   "source": [
    "## Check USB device messages\n",
    "\n",
    "    1. lsusb\n",
    "    \n",
    "    Bus 002 Device 001: ID 1d6b:0003 Linux Foundation 3.0 root hub\n",
    "    Bus 001 Device 005: ID 0cf3:e007 Atheros Communications, Inc. \n",
    "    Bus 001 Device 004: ID 0bda:0129 Realtek Semiconductor Corp. RTS5129 Card Reader Controller\n",
    "    Bus 001 Device 003: ID 0bda:5689 Realtek Semiconductor Corp. \n",
    "    Bus 001 Device 002: ID 046d:c534 Logitech, Inc. Unifying Receiver\n",
    "    Bus 001 Device 006: ID 29f1:33f2  \n",
    "    Bus 001 Device 001: ID 1d6b:0002 Linux Foundation 2.0 root hub\n",
    "    \n",
    "    找出需要的USB设备。\n",
    "    \n",
    "    2. lsusb -h\n",
    "    \n",
    "    3. lsusb -v -d 29f1:33f2"
   ]
  },
  {
   "cell_type": "markdown",
   "metadata": {},
   "source": [
    "## Linux's command cu\n",
    "\n",
    "    cu命令是linux系统中命令行打开串口方式，当然也有minicom工具，由于我个人习惯使用cu命令工具，所以这里以cu命令来做记录。\n",
    "    \n",
    "    1. cu -l /dev/ttyUSB0 -s 115200\n",
    "    \n",
    "    2. cu -l /dev/ttyUSB0 -s 115200 | tee file_name\n",
    "        用于将输出保持到指定位置中，如file_name文件中。\n",
    "        \n",
    "    3. ~.用于退出cu命令。"
   ]
  },
  {
   "cell_type": "code",
   "execution_count": 1,
   "metadata": {},
   "outputs": [
    {
     "name": "stdout",
     "output_type": "stream",
     "text": [
      "# Define some simple rules for LPCXpresso supported USB Devices\n",
      "# Each rules simply makes the device world writable when connected\n",
      "# thus avoiding the need to run the debug drivers as root\n",
      "\n",
      "# Usb to rs232/rs485/iic port\n",
      "# Directory: /etc/udev/rules.d\n",
      "# lsusb commond check usb devices\n",
      "# Create file /etc/udev/rules.d/99-plugdev.rules, after reboot PC\n",
      "\n",
      "# Milkmist Jtag cable\n",
      "SUBSYSTEMS==\"usb\", ATTRS{idVendor}==\"20b7\", ATTRS{idProduct}==\"0713\", MODE=\"0666\"\n",
      "\n",
      "# QinHeng Electronics HL-340 USB-Serial adapter\n",
      "SUBSYSTEMS==\"usb\", ATTRS{idVendor}==\"1a86\", ATTRS{idProduct}==\"7523\", MODE=\"0666\"\n",
      "SUBSYSTEMS==\"usb\", ATTRS{idVendor}==\"c251\", ATTRS{idProduct}==\"2722\", MODE=\"0666\"\n",
      "SUBSYSTEMS==\"usb\", ATTRS{idVendor}==\"046d\", ATTRS{idProduct}==\"c247\", MODE=\"0666\"\n",
      "SUBSYSTEMS==\"usb\", ATTRS{idVendor}==\"0403\", ATTRS{idProduct}==\"6010\", MODE=\"0666\"\n",
      "\n",
      "#067b:2303\n",
      "SUBSYSTEMS==\"usb\", ATTRS{idVendor}==\"067b\", ATTRS{idProduct}==\"2303\", MODE=\"0666\"\n",
      "SUBSYSTEMS==\"usb\", ATTRS{idVendor}==\"29f1\", ATTRS{idProduct}==\"33f2\", MODE=\"0666\"\n",
      "SUBSYSTEMS==\"usb\", ATTRS{idVendor}==\"21a9\", ATTRS{idProduct}==\"1001\", MODE=\"0666\"\n",
      "\n"
     ]
    }
   ],
   "source": [
    "import os\n",
    "\n",
    "with open('usb-dev.rules', 'r') as f:\n",
    "    print(f.read())"
   ]
  }
 ],
 "metadata": {
  "kernelspec": {
   "display_name": "Python 3",
   "language": "python",
   "name": "python3"
  },
  "language_info": {
   "codemirror_mode": {
    "name": "ipython",
    "version": 3
   },
   "file_extension": ".py",
   "mimetype": "text/x-python",
   "name": "python",
   "nbconvert_exporter": "python",
   "pygments_lexer": "ipython3",
   "version": "3.5.2"
  }
 },
 "nbformat": 4,
 "nbformat_minor": 2
}
