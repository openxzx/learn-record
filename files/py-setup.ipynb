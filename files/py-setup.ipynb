{
 "cells": [
  {
   "cell_type": "markdown",
   "metadata": {},
   "source": [
    "# Python setup module\n",
    "\n",
    "    正常情况下，我们一直在使用python的标准库或者第三方库来完成一些我们需要的API接口，比如说我们使用命令的方式来安装\n",
    "    python库，同时我们也可以把自己的python代码用于实现的功能安装于python库中使用import来说导入到自己或者别人的python\n",
    "    程序中，用于实现标准化的使用。"
   ]
  },
  {
   "cell_type": "markdown",
   "metadata": {},
   "source": [
    "## setup.py实例\n",
    "\n",
    "    这里只是简单的实例， 具体实现中的问题还需要具体问题具体分析。"
   ]
  },
  {
   "cell_type": "code",
   "execution_count": null,
   "metadata": {},
   "outputs": [],
   "source": [
    "   from setuptools import setup, find_packages\n",
    "   \n",
    "   setup(\n",
    "       name=\"hello_world\",\n",
    "       version=\"1.0\",\n",
    "       platforms='any',\n",
    "       author='XuZhenxing',\n",
    "       url=\"https://github.com/hello_world.py\",\n",
    "       packages=find_packages(),\n",
    "       classifiers=[\n",
    "           'Development Status :: 4 - Beta',\n",
    "           'Operating System :: OS Independent',\n",
    "           'Intended Audience :: Developers',\n",
    "           'License :: OSI Approved :: MIT License',\n",
    "           'Environment :: Console',\n",
    "           'Natural Language :: English',\n",
    "           'Programming Language :: Python',\n",
    "           'Programming Language :: Python :: Implementation',\n",
    "           'Programming Language :: Python :: 2.7',\n",
    "           'Programming Language :: Python :: 3',\n",
    "           'Programming Language :: Python :: 3.4',\n",
    "           'Programming Language :: Python :: 3.5',\n",
    "           'Programming Language :: Python :: 3.6',\n",
    "           'Programming Language :: Python :: 3.7',\n",
    "           'Topic :: Software Development :: Embedded Systems'\n",
    "       ],\n",
    "       scripts=['hello_world.py'],\n",
    "  )"
   ]
  }
 ],
 "metadata": {
  "kernelspec": {
   "display_name": "Python 3",
   "language": "python",
   "name": "python3"
  },
  "language_info": {
   "codemirror_mode": {
    "name": "ipython",
    "version": 3
   },
   "file_extension": ".py",
   "mimetype": "text/x-python",
   "name": "python",
   "nbconvert_exporter": "python",
   "pygments_lexer": "ipython3",
   "version": "3.5.2"
  }
 },
 "nbformat": 4,
 "nbformat_minor": 2
}
