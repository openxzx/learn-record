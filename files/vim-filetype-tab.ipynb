{
 "cells": [
  {
   "cell_type": "markdown",
   "metadata": {},
   "source": [
    "# Vim打开不同类型文件缩进设置\n",
    "\n",
    "    Vim是vi的升级版，有很强大的功能。如：跳转功能、复制粘贴删除行和不同文件类型使用不同的tab缩进大小等等。\n",
    "    本次记录用于说明不同文件类型使用不同tab缩进大小，如c，cpp，python，bash等使用的缩进大小是不同的。\n",
    "    我通过查看vim官方网并自己做了尝试，随便将此方法写一个小文档，提升一下自己同时也可以给大家一个参考。\n",
    "    vim官方相关内容链接： http://vimcasts.org/episodes/whitespace-preferences-and-filetypes/"
   ]
  },
  {
   "cell_type": "markdown",
   "metadata": {},
   "source": [
    "## for instance\n",
    "\n",
    "    将以下内容添加到/etc/vim/vimrc文件中，在打开对应文件就会是相应的宽度缩进，如：\n",
    "\n",
    "    if has(\"autocmd\")\n",
    "      filetype plugin indent on\n",
    "\n",
    "      autocmd FileType c setlocal ts=8 sts=8 sw=8 expandtab\n",
    "      autocmd FileType cpp setlocal ts=8 sts=8 sw=8 expandtab\n",
    "      autocmd FileType py setlocal ts=4 sts=4 sw=4 expandtab\n",
    "      autocmd FileType sh setlocal ts=4 sts=4 sw=4 expandtab\n",
    "    endif"
   ]
  }
 ],
 "metadata": {
  "kernelspec": {
   "display_name": "Python 3",
   "language": "python",
   "name": "python3"
  },
  "language_info": {
   "codemirror_mode": {
    "name": "ipython",
    "version": 3
   },
   "file_extension": ".py",
   "mimetype": "text/x-python",
   "name": "python",
   "nbconvert_exporter": "python",
   "pygments_lexer": "ipython3",
   "version": "3.5.2"
  }
 },
 "nbformat": 4,
 "nbformat_minor": 2
}
