{
 "cells": [
  {
   "cell_type": "markdown",
   "metadata": {},
   "source": [
    "# Clib manpages\n",
    "\n",
    "    python是比较好用的编程语言，不仅可以进行交互式编程，而且可以通过交互式help查询对应module帮助信息，\n",
    "    来更好的使用module的class.def。虽然编写C有很多年了，但是有不会的函数总是百度，一直也没有想法去找个\n",
    "    不用百度就可以查询对应函数的help信息和某个头文件包括的函数声明，如果有了对应的方法后，就可以很快的实现\n",
    "    函数或头文件信息。在linux系统下，强大的命令工具显得这个问题一定是可以得到解决的。所以我开始找寻方法，同时\n",
    "    我也在想是不是以后我写的代码也需要有更多的help输出，而且可以更方便的输出，就比如说通过命令行操作。\n",
    "    看来我要坚持了，加油吧！"
   ]
  },
  {
   "cell_type": "markdown",
   "metadata": {},
   "source": [
    "## man clibs\n",
    "\n",
    "### Clib's base help documents\n",
    "\n",
    "    sudo apt-get install manpages \n",
    "    sudo apt-get install manpages-de \n",
    "    sudo apt-get install manpages-de-dev \n",
    "    sudo apt-get install manpages-dev\n",
    "    \n",
    "### POSIX help documents\n",
    "\n",
    "    sudo apt-get install manpages-posix\n",
    "    sudo apt-get install manpages-posix-dev\n",
    "    \n",
    "### kernel functions\n",
    "\n",
    "    sudo apt-get install linux-doc\n",
    "    \n",
    "### for example\n",
    "\n",
    "    man open\n",
    "    man stdlib.h\n",
    "    man pthread.h"
   ]
  }
 ],
 "metadata": {
  "kernelspec": {
   "display_name": "Python 3",
   "language": "python",
   "name": "python3"
  },
  "language_info": {
   "codemirror_mode": {
    "name": "ipython",
    "version": 3
   },
   "file_extension": ".py",
   "mimetype": "text/x-python",
   "name": "python",
   "nbconvert_exporter": "python",
   "pygments_lexer": "ipython3",
   "version": "3.5.2"
  }
 },
 "nbformat": 4,
 "nbformat_minor": 2
}
