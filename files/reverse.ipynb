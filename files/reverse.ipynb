{
 "cells": [
  {
   "cell_type": "markdown",
   "metadata": {},
   "source": [
    "# Reverse for the word of the 32 bits\n",
    "\n",
    "    在写代码的时候，难免后对应变量进行bits的翻转，这里有一个非常的好的翻转bits的算法记录一下，提供不知道的人参考一下。\n",
    "    \n",
    "    [reverse](http://aggregate.org/MAGIC/#Bit%20Reversal)"
   ]
  }
 ],
 "metadata": {
  "kernelspec": {
   "display_name": "Python 3",
   "language": "python",
   "name": "python3"
  },
  "language_info": {
   "codemirror_mode": {
    "name": "ipython",
    "version": 3
   },
   "file_extension": ".py",
   "mimetype": "text/x-python",
   "name": "python",
   "nbconvert_exporter": "python",
   "pygments_lexer": "ipython3",
   "version": "3.5.2"
  }
 },
 "nbformat": 4,
 "nbformat_minor": 2
}
