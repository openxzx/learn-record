{
 "cells": [
  {
   "cell_type": "markdown",
   "metadata": {},
   "source": [
    "# Hex string into bytearray\n",
    "\n",
    "    有时候为了直接的显示文件内容信息，可以通过转化不同的内容形式。\n",
    "    Python中的bytearray类就提供了不同形式的转化，我们可以练习一下。"
   ]
  },
  {
   "cell_type": "markdown",
   "metadata": {},
   "source": [
    "## for instance\n",
    "    \n",
    "    转化hex子串为byte对象。"
   ]
  },
  {
   "cell_type": "code",
   "execution_count": 1,
   "metadata": {},
   "outputs": [
    {
     "name": "stdout",
     "output_type": "stream",
     "text": [
      "bytearray(b'\\xc0r\\xce\\x9f\\xa0\\x0e\\xe0\\x00')\n"
     ]
    }
   ],
   "source": [
    "s = 'c072ce9fa00ee000'\n",
    "\n",
    "tmp = bytearray.fromhex(s)\n",
    "print(tmp)"
   ]
  }
 ],
 "metadata": {
  "kernelspec": {
   "display_name": "Python 3",
   "language": "python",
   "name": "python3"
  },
  "language_info": {
   "codemirror_mode": {
    "name": "ipython",
    "version": 3
   },
   "file_extension": ".py",
   "mimetype": "text/x-python",
   "name": "python",
   "nbconvert_exporter": "python",
   "pygments_lexer": "ipython3",
   "version": "3.5.2"
  }
 },
 "nbformat": 4,
 "nbformat_minor": 2
}
