{
 "cells": [
  {
   "cell_type": "markdown",
   "metadata": {},
   "source": [
    "# __attribute__\n",
    "\n",
    "    attribute是GNU C特色之一，在iOS用的比较广泛。系统中有许多地方使用到attribute可以设置函数属性（Function Attribute ）、变量属性（Variable Attribute ）和类型属性（Type Attribute)等。\n",
    "    \n",
    "## 函数属性(Function Attribute)\n",
    "\n",
    "    noreturn\n",
    "    noinline\n",
    "    always_inline\n",
    "    pure\n",
    "    const\n",
    "    nothrow\n",
    "    sentinel\n",
    "    format\n",
    "    format_arg\n",
    "    no_instrument_function\n",
    "    section\n",
    "    constructor\n",
    "    destructor\n",
    "    used\n",
    "    unused\n",
    "    deprecated\n",
    "    weak\n",
    "    malloc\n",
    "    alias\n",
    "    warn_unused_result\n",
    "    nonnull\n",
    "    \n",
    "## 类型属性(Type Attributes)\n",
    "\n",
    "    aligned\n",
    "    packed\n",
    "    transparent_union\n",
    "    unused\n",
    "    deprecated\n",
    "    may_alias\n",
    "    \n",
    "## 变量属性(Variable Attribute)\n",
    "\n",
    "    aligned\n",
    "    packed"
   ]
  }
 ],
 "metadata": {
  "kernelspec": {
   "display_name": "Python 3",
   "language": "python",
   "name": "python3"
  },
  "language_info": {
   "codemirror_mode": {
    "name": "ipython",
    "version": 3
   },
   "file_extension": ".py",
   "mimetype": "text/x-python",
   "name": "python",
   "nbconvert_exporter": "python",
   "pygments_lexer": "ipython3",
   "version": "3.5.2"
  }
 },
 "nbformat": 4,
 "nbformat_minor": 2
}
