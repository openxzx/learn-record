{
 "cells": [
  {
   "cell_type": "markdown",
   "metadata": {},
   "source": [
    "# Network\n",
    "\n",
    "    随着科技的不断发展，人工智能、物联网和区块链等，所以的都离不开网络。这里简单解释一下和网络有关的小工具。"
   ]
  },
  {
   "cell_type": "markdown",
   "metadata": {},
   "source": [
    "## DNS\n",
    "\n",
    "    域名系统（服务）协议（DNS）是一种分布式网络目录服务，主要用于域名与 IP 地址的相互转换，以及控制因特网的电子邮件的发送。\n",
    "    大多数因特网服务依赖于 DNS 而工作，一旦 DNS 出错，就无法连接 Web 站点，电子邮件的发送也会中止。\n",
    "    \n",
    "    114.114.114.114和8.8.8.8是常见的DNS地址，8.8.8.8为GOOGLE公司DNS地址是全球通用的，\n",
    "    而114.114.114.114是全国通用DNS地址，国内用户使用较多，而且速度比较快也很稳定。\n",
    "    \n",
    "    域名系统（Domain Name System缩写DNS，Domain Name被译为域名）是因特网的一项核心服务，\n",
    "    它作为可以将域名和IP地址相互映射的一个分布式数据库，能够使人更方便的访问互联网，而不用去记住能够被机器直接读取的IP数串。\n",
    "    \n",
    "    网管查看： route -n\n",
    "    DNS查看： cat /etc/resolv.conf or nslookup www.baidu.com（域名）\n",
    "    \n",
    "## Command\n",
    "\n",
    "    route\n",
    "    netstat\n",
    "    nsloop 域名\n",
    "    ssh\n",
    "    ping\n",
    "    mtr - a network diagnostic tool\n",
    "    tcpdump\n",
    "    dig - DNS lookup utility\n",
    "    curl - CommandLine Uniform Resource Locator"
   ]
  }
 ],
 "metadata": {
  "kernelspec": {
   "display_name": "Python 3",
   "language": "python",
   "name": "python3"
  },
  "language_info": {
   "codemirror_mode": {
    "name": "ipython",
    "version": 3
   },
   "file_extension": ".py",
   "mimetype": "text/x-python",
   "name": "python",
   "nbconvert_exporter": "python",
   "pygments_lexer": "ipython3",
   "version": "3.5.2"
  }
 },
 "nbformat": 4,
 "nbformat_minor": 2
}
