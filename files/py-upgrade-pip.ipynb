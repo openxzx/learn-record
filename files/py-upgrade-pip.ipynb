{
 "cells": [
  {
   "cell_type": "markdown",
   "metadata": {},
   "source": [
    "# Upgrade Pip version\n",
    "\n",
    "    有时候通过pip安装python工具的时候会不成功，同时pip的版本比较低需要更新pip到最新版本，\n",
    "    但是更新后，无法执行pip命令了。\n",
    "    \n",
    "    更新命令如下：\n",
    "    python2 command: pip install --upgrade pip\n",
    "    或者\n",
    "    python3 command: pip3 install --upgrade pip"
   ]
  },
  {
   "cell_type": "markdown",
   "metadata": {},
   "source": [
    "## pip升级后Import Error:cannot import name main解决方案\n",
    "\n",
    "    1、sudo vim /usr/bin/pip\n",
    "    \n",
    "    2、\n",
    "    将from pip import main改为from pip._internal import main\n",
    "    或者\n",
    "    from pip import main\n",
    "    if __name__ == '__main__':\n",
    "        sys.exit(main())\n",
    "    改为\n",
    "    from pip import __main__\n",
    "    if __name__ == '__main__':\n",
    "        sys.exit(__main__._main())"
   ]
  }
 ],
 "metadata": {
  "kernelspec": {
   "display_name": "Python 3",
   "language": "python",
   "name": "python3"
  },
  "language_info": {
   "codemirror_mode": {
    "name": "ipython",
    "version": 3
   },
   "file_extension": ".py",
   "mimetype": "text/x-python",
   "name": "python",
   "nbconvert_exporter": "python",
   "pygments_lexer": "ipython3",
   "version": "3.5.2"
  }
 },
 "nbformat": 4,
 "nbformat_minor": 2
}
