{
 "cells": [
  {
   "cell_type": "markdown",
   "metadata": {},
   "source": [
    "# Signal\n",
    "\n",
    "信号（signal）-- 进程之间通讯的方式，是一种软件中断。一个进程一旦接收到信号就会打断原来的程序执行流程来处理信号。\n",
    "\n",
    "    信号类型：\n",
    "    SIGHUP 1 A 终端挂起或者控制进程终止 \n",
    "    SIGINT 2 A 键盘中断（如break键被按下） \n",
    "    SIGQUIT 3 C 键盘的退出键被按下 \n",
    "    SIGILL 4 C 非法指令 \n",
    "    SIGABRT 6 C 由abort(3)发出的退出指令 \n",
    "    SIGFPE 8 C 浮点异常 \n",
    "    SIGKILL 9 AEF Kill信号 \n",
    "    SIGSEGV 11 C 无效的内存引用 \n",
    "    SIGPIPE 13 A 管道破裂: 写一个没有读端口的管道 \n",
    "    SIGALRM 14 A 由alarm(2)发出的信号 \n",
    "    SIGTERM 15 A 终止信号 \n",
    "    SIGUSR1 30,10,16 A 用户自定义信号1 \n",
    "    SIGUSR2 31,12,17 A 用户自定义信号2 \n",
    "    SIGCHLD 20,17,18 B 子进程结束信号 \n",
    "    SIGCONT 19,18,25 进程继续（曾被停止的进程） \n",
    "    SIGSTOP 17,19,23 DEF 终止进程 \n",
    "    SIGTSTP 18,20,24 D 控制终端（tty）上按下停止键 \n",
    "    SIGTTIN 21,21,26 D 后台进程企图从控制终端读 \n",
    "    SIGTTOU 22,22,27 D 后台进程企图从控制终端写"
   ]
  },
  {
   "cell_type": "code",
   "execution_count": null,
   "metadata": {},
   "outputs": [],
   "source": [
    "#!/usr/bin/env python3\n",
    "\n",
    "import sys\n",
    "import time\n",
    "import signal\n",
    "\n",
    "\n",
    "def sigint_handler(signum, frame):\n",
    "    print(\"signal handler\")\n",
    "    sys.exit()\n",
    "\n",
    "\n",
    "if 'name' == 'main':\n",
    "    signal.signal(signal.SIGINT, sigint_handler)\n",
    "    signal.signal(signal.SIGTERM, sigint_handler)\n",
    "    signal.signal(signal.SIGHUP, sigint_handler)\n",
    "\n",
    "    while (True):\n",
    "        print(\"Signal test\")\n",
    "        time.sleep(1)"
   ]
  }
 ],
 "metadata": {
  "kernelspec": {
   "display_name": "Python 3",
   "language": "python",
   "name": "python3"
  },
  "language_info": {
   "codemirror_mode": {
    "name": "ipython",
    "version": 3
   },
   "file_extension": ".py",
   "mimetype": "text/x-python",
   "name": "python",
   "nbconvert_exporter": "python",
   "pygments_lexer": "ipython3",
   "version": "3.5.2"
  }
 },
 "nbformat": 4,
 "nbformat_minor": 2
}
