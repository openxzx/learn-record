{
 "cells": [
  {
   "cell_type": "markdown",
   "metadata": {},
   "source": [
    "# Cscope\n",
    "\n",
    "    Cscope是类似于ctags一样的工具，但可以认为她是ctags的增强版，因为她比ctags能够做更多的事。\n",
    "    在Vim中，通过cscope的查询，跳转到指定的地方就像跳转到任何标签；她能够保存标签栈，所以通过合适的键盘映射绑定，你能够在函数向后或向前跳转，就像通常使用的tags一样。\n",
    "\n",
    "    * 添加以下内容到/etc/vim/vimrc文件中。\n",
    "    \n",
    "    if has(\"cscope\")\n",
    "        set csprg=/usr/bin/cscope\n",
    "        set csto=0\n",
    "        set cst\n",
    "        set nocsverb\n",
    "\n",
    "        \" add any database in current directory\n",
    "        if filereadable(\"cscope.out\")\n",
    "            cs add cscope.out\n",
    "        \" else add database pointed to by environment\n",
    "        elseif $CSCOPE_DB != \"\"\n",
    "            cs add $CSCOPE_DB\n",
    "        endif\n",
    "\n",
    "        set csverb\n",
    "    endif\n",
    "    \n",
    "    * 使用vim打开文件，使用cscope -Rbq命令可以进行快速调整和查询功能。"
   ]
  }
 ],
 "metadata": {
  "kernelspec": {
   "display_name": "Python 3",
   "language": "python",
   "name": "python3"
  },
  "language_info": {
   "codemirror_mode": {
    "name": "ipython",
    "version": 3
   },
   "file_extension": ".py",
   "mimetype": "text/x-python",
   "name": "python",
   "nbconvert_exporter": "python",
   "pygments_lexer": "ipython3",
   "version": "3.5.2"
  }
 },
 "nbformat": 4,
 "nbformat_minor": 2
}
