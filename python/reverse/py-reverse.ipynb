{
 "cells": [
  {
   "cell_type": "markdown",
   "metadata": {},
   "source": [
    "# Reverse for the word of the 32 bits\n",
    "\n",
    "    在写代码的时候，难免后对应变量进行bits的翻转，这里有一个非常的好的翻转bits的算法记录一下，提供不知道的人参考一下。\n",
    "    \n",
    "[reverse link](http://aggregate.org/MAGIC/#Bit%20Reversal)"
   ]
  },
  {
   "cell_type": "markdown",
   "metadata": {},
   "source": [
    "# Python reverse codes"
   ]
  },
  {
   "cell_type": "code",
   "execution_count": 5,
   "metadata": {},
   "outputs": [
    {
     "name": "stdout",
     "output_type": "stream",
     "text": [
      "0xf0f0f0f0\n",
      "0x0f0f0f0f\n"
     ]
    }
   ],
   "source": [
    "def reverse_uint32(x):\n",
    "    x = (((x & 0xaaaaaaaa) >> 1) | ((x & 0x55555555) << 1));\n",
    "    x = (((x & 0xcccccccc) >> 2) | ((x & 0x33333333) << 2));\n",
    "    x = (((x & 0xf0f0f0f0) >> 4) | ((x & 0x0f0f0f0f) << 4));\n",
    "    x = (((x & 0xff00ff00) >> 8) | ((x & 0x00ff00ff) << 8));\n",
    "\n",
    "    return ((x >> 16) | (x << 16)) & 0xffffffff;\n",
    "\n",
    "tmp = 0xf0f0f0f0\n",
    "print('0x%x' % tmp)\n",
    "print('0x%08x' % reverse_uint32(tmp))"
   ]
  }
 ],
 "metadata": {
  "kernelspec": {
   "display_name": "Python 3",
   "language": "python",
   "name": "python3"
  },
  "language_info": {
   "codemirror_mode": {
    "name": "ipython",
    "version": 3
   },
   "file_extension": ".py",
   "mimetype": "text/x-python",
   "name": "python",
   "nbconvert_exporter": "python",
   "pygments_lexer": "ipython3",
   "version": "3.5.2"
  }
 },
 "nbformat": 4,
 "nbformat_minor": 2
}
