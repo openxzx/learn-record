{
 "cells": [
  {
   "cell_type": "markdown",
   "metadata": {
    "collapsed": true
   },
   "source": [
    "# 前言\n",
    "\n",
    "    从大学毕业到现在一直都在技术这行，也许是因为性格的问题吧，更多的偏内向，所以感觉自己根本做不了销售方面的工作。截止到现在已经工作有10年了，由于所学专业的原因，一直从事嵌入式开发这个方面包括软件和硬件。\n",
    "    \n",
    "    我在这里先说一下硬件吧，因为现在已经不再搞硬件设计了，内容相对较少一些吧。刚毕业时，在公司会做硬件原理图和PCB设计，使用的硬件设计软件为Altium Designer，简称AD。记得第一次做稍微复杂一点的PCB的时候，改板有5-6次吧，虽然老板没有正面责备我，但是自己也感到很是郁闷。终于，PCB尺寸上成功了，到了软件调试，使用的C语言实现的开发，跑在S3C2440开发板上。这是我人生中的第一个开发吧，真的很不容易啊。慢慢不再想搞硬件设计了，或许是真的不擅长硬件设计吧，或许是自己做事情比较马虎而硬件对细心要求更高吧，或许是自己慢慢喜欢上做软件的原因吧。\n",
    "\n",
    "    从放弃硬件开发后，开发专门做嵌入式软件了，到现在为止，也算是会几种编程语言了吧，如C、Python、Shell、Lua等。"
   ]
  }
 ],
 "metadata": {
  "kernelspec": {
   "display_name": "Python 3",
   "language": "python",
   "name": "python3"
  },
  "language_info": {
   "codemirror_mode": {
    "name": "ipython",
    "version": 3
   },
   "file_extension": ".py",
   "mimetype": "text/x-python",
   "name": "python",
   "nbconvert_exporter": "python",
   "pygments_lexer": "ipython3",
   "version": "3.5.2"
  }
 },
 "nbformat": 4,
 "nbformat_minor": 2
}
