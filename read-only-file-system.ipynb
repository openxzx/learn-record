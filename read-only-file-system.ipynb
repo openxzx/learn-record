{
 "cells": [
  {
   "cell_type": "markdown",
   "metadata": {},
   "source": [
    "# Read-only file system\n",
    "\n",
    "    在使用openwrt系统的时候，有时候会对系统的ipk进行修改，在copy文件到系统的时候有的系统会提示Read-only file system。这个就是无法在对系统进行写操作了，最近一次又遇到了这种情况，之前都是重新烧写SD卡，烧写完成后系统就可以进行写操作了，但是这次就想查一下问题所在所以就登录cn.bing.com查询了一下，通过一下提示操作就解决了Read-only file system问题了。\n",
    "    \n",
    "    我当时的操作是mount -o remount rw /后，系统仍然不可以写操作，reboot后，系统就可以写操作了。"
   ]
  },
  {
   "cell_type": "markdown",
   "metadata": {},
   "source": [
    "    网上具体方法：\n",
    "    \n",
    "    [root@hadoop01 home]# ll /etc/.pwd.lock\n",
    "    \n",
    "    -rw-------. 1 root root 0 Jun  1  2002 .pwd.lock\n",
    "    \n",
    "    [root@hadoop01 home]# rm -rf /etc/.pwd.lock\n",
    "    \n",
    "    rm: cannot remove `/etc/.pwd.lock': Read-only file system\n",
    "    \n",
    "    [root@hadoop01 home]# mount -o remount rw /      (这一步是关键的一步，让“/”根文件系统重新挂载并有可读写模式)\n",
    "    \n",
    "    [root@hadoop01 home]# rm -rf /etc/.pwd.lock"
   ]
  }
 ],
 "metadata": {
  "kernelspec": {
   "display_name": "Python 3",
   "language": "python",
   "name": "python3"
  },
  "language_info": {
   "codemirror_mode": {
    "name": "ipython",
    "version": 3
   },
   "file_extension": ".py",
   "mimetype": "text/x-python",
   "name": "python",
   "nbconvert_exporter": "python",
   "pygments_lexer": "ipython3",
   "version": "3.5.2"
  }
 },
 "nbformat": 4,
 "nbformat_minor": 2
}
