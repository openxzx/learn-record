{
 "cells": [
  {
   "cell_type": "markdown",
   "metadata": {},
   "source": [
    "# LoRa Radio\n",
    "\n",
    "    SX1301, SX1302 and SX1276 that radios are used in project, in normal, SX1301 and SX1302 are used in the gateway, SX1276 radio is used in the node device but it also can use in the gateway.\n",
    "    \n",
    "    We can design that cpu and mcu(stm32) communicate by UART, for the cpu, UART for tty device. We can use xmodem\n",
    "    tool for mcu updating firemare version."
   ]
  }
 ],
 "metadata": {
  "kernelspec": {
   "display_name": "Python 3",
   "language": "python",
   "name": "python3"
  },
  "language_info": {
   "codemirror_mode": {
    "name": "ipython",
    "version": 3
   },
   "file_extension": ".py",
   "mimetype": "text/x-python",
   "name": "python",
   "nbconvert_exporter": "python",
   "pygments_lexer": "ipython3",
   "version": "3.6.9"
  }
 },
 "nbformat": 4,
 "nbformat_minor": 2
}
